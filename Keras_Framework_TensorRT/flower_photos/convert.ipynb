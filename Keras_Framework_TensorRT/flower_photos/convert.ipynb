{
 "cells": [
  {
   "cell_type": "markdown",
   "metadata": {},
   "source": [
    "### Create TRT engine\n",
    "\n",
    "In this notebook we create and save a TensorRT engine that we can use in deployment. Be sure that your GPU memory has been freed before running this part of the code."
   ]
  },
  {
   "cell_type": "markdown",
   "metadata": {},
   "source": [
    "### Imports\n",
    "\n",
    "In this block we import the necessary python packages"
   ]
  },
  {
   "cell_type": "code",
   "execution_count": null,
   "metadata": {
    "collapsed": true
   },
   "outputs": [],
   "source": [
    "''' Import TensorRT Modules '''\n",
    "import tensorrt as trt\n",
    "import uff\n",
    "from tensorrt.parsers import uffparser"
   ]
  },
  {
   "cell_type": "markdown",
   "metadata": {},
   "source": [
    "### Configurations"
   ]
  },
  {
   "cell_type": "code",
   "execution_count": null,
   "metadata": {},
   "outputs": [],
   "source": [
    "config = {\n",
    "    # Training params\n",
    "    \"train_data_dir\": \"/home/data/train\",  # training data\n",
    "    \"val_data_dir\": \"/home/data/val\",  # validation data \n",
    "    \"train_batch_size\": 16,  # training batch size\n",
    "    \"epochs\": 3,  # number of training epochs\n",
    "    \"num_train_samples\" : 2936,  # number of training examples\n",
    "    \"num_val_samples\" : 734,  # number of test examples\n",
    "\n",
    "    # Where to save models (Tensorflow + TensorRT)\n",
    "    \"graphdef_file\": \"/home/model/keras_vgg19_graphdef.pb\",\n",
    "    \"frozen_model_file\": \"/home/model/keras_vgg19_frozen_model.pb\",\n",
    "    \"snapshot_dir\": \"/home/data/model/snapshot\",\n",
    "    \"engine_save_dir\": \"/home/model/\",\n",
    "    \n",
    "    # Needed for TensorRT\n",
    "    \"image_dim\": 224,  # the image size (square images)\n",
    "    \"inference_batch_size\": 1,  # inference batch size\n",
    "    \"input_layer\": \"input_1\",  # name of the input tensor in the TF computational graph\n",
    "    \"out_layer\": \"dense_2/Softmax\",  # name of the output tensorf in the TF conputational graph\n",
    "    \"output_size\" : 5,  # number of classes in output (5)\n",
    "    \"precision\": \"fp32\",  # desired precision (fp32, fp16)\n",
    "\n",
    "    \"test_image_path\" : \"/home/data/val/roses\"\n",
    "}"
   ]
  },
  {
   "cell_type": "markdown",
   "metadata": {},
   "source": [
    "## UFF Model for TRT\n",
    "\n",
    "In the following function we load the frozen model (tensorflow) and we create the UFF engine. In order to create it we need to sspecify (among other things) the precision. Note that the function call for half and full precision differs only by one argument ("
   ]
  },
  {
   "cell_type": "code",
   "execution_count": null,
   "metadata": {},
   "outputs": [],
   "source": [
    "G_LOGGER = trt.infer.ConsoleLogger(trt.infer.LogSeverity.INFO)"
   ]
  },
  {
   "cell_type": "code",
   "execution_count": null,
   "metadata": {},
   "outputs": [],
   "source": [
    "def create_and_save_inference_engine():\n",
    "    # Define network parameters, including inference batch size, name & dimensionality of input/output layers\n",
    "    INPUT_LAYERS = [config['input_layer']]\n",
    "    OUTPUT_LAYERS = [config['out_layer']]\n",
    "    INFERENCE_BATCH_SIZE = config['inference_batch_size']\n",
    "\n",
    "    INPUT_C = 3\n",
    "    INPUT_H = config['image_dim']\n",
    "    INPUT_W = config['image_dim']\n",
    "\n",
    "    # Load your newly created Tensorflow frozen model and convert it to UFF\n",
    "    uff_model = uff.from_tensorflow_frozen_model(config['frozen_model_file'], OUTPUT_LAYERS)\n",
    "\n",
    "    # Create a UFF parser to parse the UFF file created from your TF Frozen model\n",
    "    parser = uffparser.create_uff_parser()\n",
    "    parser.register_input(INPUT_LAYERS[0], (INPUT_C,INPUT_H,INPUT_W),0)\n",
    "    parser.register_output(OUTPUT_LAYERS[0])\n",
    "\n",
    "    # Build your TensorRT inference engine\n",
    "    if(config['precision'] == 'fp32'):\n",
    "        engine = trt.utils.uff_to_trt_engine(\n",
    "            G_LOGGER, \n",
    "            uff_model, \n",
    "            parser, \n",
    "            INFERENCE_BATCH_SIZE, \n",
    "            1<<20, \n",
    "            trt.infer.DataType.FLOAT\n",
    "        )\n",
    "\n",
    "    elif(config['precision'] == 'fp16'):\n",
    "        engine = trt.utils.uff_to_trt_engine(\n",
    "            G_LOGGER, \n",
    "            uff_model, \n",
    "            parser, \n",
    "            INFERENCE_BATCH_SIZE, \n",
    "            1<<20, \n",
    "            trt.infer.DataType.HALF\n",
    "        )\n",
    "    \n",
    "    # Serialize TensorRT engine to a file for when you are ready to deploy your model.\n",
    "    save_path = str(config['engine_save_dir']) + \"keras_vgg19_b\" \\\n",
    "        + str(INFERENCE_BATCH_SIZE) + \"_\"+ str(config['precision']) + \".engine\"\n",
    "\n",
    "    trt.utils.write_engine_to_file(save_path, engine.serialize())\n",
    "    \n",
    "    print(\"Saved TRT engine to {}\".format(save_path))"
   ]
  },
  {
   "cell_type": "code",
   "execution_count": null,
   "metadata": {},
   "outputs": [],
   "source": [
    "create_and_save_inference_engine()"
   ]
  }
 ],
 "metadata": {
  "kernelspec": {
   "display_name": "Python 2",
   "language": "python",
   "name": "python2"
  },
  "language_info": {
   "codemirror_mode": {
    "name": "ipython",
    "version": 2
   },
   "file_extension": ".py",
   "mimetype": "text/x-python",
   "name": "python",
   "nbconvert_exporter": "python",
   "pygments_lexer": "ipython2",
   "version": "2.7.6"
  }
 },
 "nbformat": 4,
 "nbformat_minor": 0
}
